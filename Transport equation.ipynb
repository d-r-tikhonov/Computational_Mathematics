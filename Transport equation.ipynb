{
 "cells": [
  {
   "cell_type": "code",
   "execution_count": null,
   "metadata": {},
   "outputs": [],
   "source": [
    "%matplotlib inline \n",
    "import numpy as np                       \n",
    "from matplotlib import pyplot as plt      \n",
    "import time, sys                   "
   ]
  },
  {
   "cell_type": "markdown",
   "metadata": {},
   "source": [
    "### Постановка и сеточные параметры\n",
    "\n",
    "Рассмотрим задачу об эволюции ступеньки. Численное решается уравнение переноса с коэффициентом переноса $c$."
   ]
  },
  {
   "cell_type": "code",
   "execution_count": null,
   "metadata": {},
   "outputs": [],
   "source": [
    "nx = 41  # количество узлов по пространству\n",
    "dx = 2 / (nx-1) # шаг по пространству\n",
    "nt = 25    # количество узлов по времени\n",
    "dt = .025  # шаг по времени\n",
    "T = dt*(nt-1)\n",
    "c = 1      # скорость распространения возмущения (коэффициент переноса)\n",
    "x_mesh = np.linspace(0, 2, nx) #сетка по пространству\n",
    "r = c*dt/dx # число Куранта\n",
    "print('r = ', r)\n",
    "print('T = ', T)"
   ]
  },
  {
   "cell_type": "markdown",
   "metadata": {},
   "source": [
    "#### Начальные условия\n",
    "\n",
    "Зададим $u(x, 0) = 2$ при $x \\in [0.5, 1]$ и $u(x, 0) = 1$ иначе во всей расчетной области. Такая функция называется \"ступенька\". "
   ]
  },
  {
   "cell_type": "code",
   "execution_count": null,
   "metadata": {},
   "outputs": [],
   "source": [
    "u_init = np.ones(nx)      \n",
    "u_init[int(.5 / dx):int(1 / dx + 1)] = 2  \n",
    "plt.plot(x_mesh, u_init, '-bo')"
   ]
  },
  {
   "cell_type": "markdown",
   "metadata": {},
   "source": [
    "#### Точное решение\n",
    "\n",
    "К моменту времени T ступенька просто сдвинется вправо"
   ]
  },
  {
   "cell_type": "code",
   "execution_count": null,
   "metadata": {},
   "outputs": [],
   "source": [
    "u_exact = np.ones(nx)      \n",
    "u_exact[int((.5+c*T) / dx):int((1+c*T) / dx + 1)] = 2  \n",
    "plt.plot(x_mesh, u_exact, '-r+')"
   ]
  },
  {
   "cell_type": "markdown",
   "metadata": {},
   "source": [
    "### Численное решение\n",
    "\n",
    "#### Часть 1. Явный левый уголок\n",
    "Сначала примените схему Явный левый уголок (Upwind scheme). Провести расчеты для $nx = 41; 81; 121$. Построить графики решения"
   ]
  },
  {
   "cell_type": "code",
   "execution_count": null,
   "metadata": {},
   "outputs": [],
   "source": [
    "un = np.ones(nx) # инициализация вспомогательного массива для хранения\n",
    "                 # данных с предыдущего шага\n",
    "u = u_init.copy()\n",
    "for n in range(1, nt):  # шагаем по времени\n",
    "    un = u.copy() # заполняем данными с предыдущего шага\n",
    "    for i in range(1, nx): # шагаем по пространству\n",
    "        u[i] = un[i] - r*(un[i] - un[i-1])"
   ]
  },
  {
   "cell_type": "code",
   "execution_count": null,
   "metadata": {},
   "outputs": [],
   "source": [
    "plt.plot(x_mesh, u, '-bo', label = 'Numeric nx = ' + str(nx))\n",
    "plt.plot(x_mesh, u_exact, '-r+', label = 'Exact')\n",
    "plt.legend()"
   ]
  },
  {
   "cell_type": "markdown",
   "metadata": {},
   "source": [
    "0. Какой у схемы порядок аппроксимации?\n",
    "1. Удалось ли получить решение? Почему?\n",
    "2. Сколько граничных условий и где нужно поставить в этой задаче?\n",
    "3. Почему в задаче явно нигде не инициализируются граничные условия?\n",
    "4. Почему в цикле по пространству индексация с 1?\n",
    "5. Можно ли решить задачу схемой Явный правый уголок?\n",
    "6. Почему при решении на 41 узле решение размывается, а на 81 узле нет?\n",
    "7. Объясните причину размытия решения.\n",
    "\n",
    "Для ответа на шестой вопрос может быть полезна книга [1], c.71\n",
    "\n",
    "1. Зализняк В.Е. Основы вычислительной физики. Часть 1. Введение в конечно-разностные методы"
   ]
  },
  {
   "cell_type": "markdown",
   "metadata": {},
   "source": [
    "#### Часть 2. Схема МакКормака \n",
    "\n",
    "Теперь примените схему МакКормака (MacCormack method). Провести расчеты для $nx = 41; 81; 121$. Построить графики решения"
   ]
  },
  {
   "cell_type": "code",
   "execution_count": null,
   "metadata": {},
   "outputs": [],
   "source": [
    "un = np.ones(nx) # инициализация вспомогательного массива для хранения данных с предыдущего шага\n",
    "# TODO: создадим еще вспомогательных структур?\n",
    "u = u_init.copy()\n",
    "for n in range(1, nt): \n",
    "    un = u.copy() \n",
    "    # TODO: predictor\n",
    "    # TODO: corrector"
   ]
  },
  {
   "cell_type": "code",
   "execution_count": null,
   "metadata": {},
   "outputs": [],
   "source": [
    "plt.plot(x_mesh, u, '-bo', label = 'Numeric nx = ' + str(nx))\n",
    "plt.plot(x_mesh, u_exact, '-r+', label = 'Exact')\n",
    "plt.legend()"
   ]
  },
  {
   "cell_type": "markdown",
   "metadata": {},
   "source": [
    "0. Какой у схемы порядок аппроксимации?\n",
    "1. Удалось ли получить решение? Почему?\n",
    "2. Почему при решении на 41 узле решение осциллирует, а на 81 узле нет?\n",
    "3. Объясните причину осцилляций.\n",
    "4. Совпадает ли схема со схемой Лакса-Вендроффа для данной задачи (Lax–Wendroff method)?"
   ]
  },
  {
   "cell_type": "markdown",
   "metadata": {},
   "source": [
    "#### Часть 3. Монотонная схема высокого порядка"
   ]
  },
  {
   "cell_type": "markdown",
   "metadata": {},
   "source": [
    "1. Можно ли построить линейную монотонную по Годунову схему с порядком выше первого? Почему?\n",
    "2. Постройте монотонную схему порядка выше первого и примените к решению задачи из предыдущих частей."
   ]
  },
  {
   "cell_type": "code",
   "execution_count": null,
   "metadata": {},
   "outputs": [],
   "source": []
  }
 ],
 "metadata": {
  "kernelspec": {
   "display_name": "Python 3",
   "language": "python",
   "name": "python3"
  },
  "language_info": {
   "codemirror_mode": {
    "name": "ipython",
    "version": 3
   },
   "file_extension": ".py",
   "mimetype": "text/x-python",
   "name": "python",
   "nbconvert_exporter": "python",
   "pygments_lexer": "ipython3",
   "version": "3.6.5"
  }
 },
 "nbformat": 4,
 "nbformat_minor": 5
}
