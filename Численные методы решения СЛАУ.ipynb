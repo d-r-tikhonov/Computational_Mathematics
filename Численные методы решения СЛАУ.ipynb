{
 "cells": [
  {
   "attachments": {},
   "cell_type": "markdown",
   "metadata": {},
   "source": [
    "## Часть 1. Пример проблемы использования метода Гаусса для решения СЛАУ\n",
    "\n",
    "Перед вами простая реализация метода Гаусса для решения СЛАУ. Далее по коду представлены две СЛАУ $A_1x = b_1$ и $A_2x = b_2$, эквивалентные с точностью до перестановки строк. Эти СЛАУ решаются сначала пакетным методом, затем реализованным методом Гаусса. Для пакетного метода получается два одинаковых решения. Для метода Гаусса - два отличающихся решения. ЗАДАНИЕ: необходимо объяснить, почему для представленного метода Гаусса решения различаются."
   ]
  },
  {
   "cell_type": "code",
   "execution_count": 628,
   "metadata": {},
   "outputs": [],
   "source": [
    "import numpy as np\n",
    "import numpy.linalg as la\n",
    "import copy \n",
    "\n",
    "def gauss(A_in, b_in):\n",
    "    n = b_in.size\n",
    "    A = copy.deepcopy(A_in)\n",
    "    b = copy.deepcopy(b_in)\n",
    "\n",
    "    for k in range(0, n - 1):\n",
    "        for i in range(k + 1, n):\n",
    "            if A[i,k] != 0:\n",
    "                c = A[i,k]/A[k,k]\n",
    "                A[i,(k + 1):n] = A[i,(k + 1):n] - c * A[k,(k + 1):n]\n",
    "                b[i] = b[i] - c * b[k]\n",
    "    # Обратный ход\n",
    "    for k in range(n - 1, -1, -1):\n",
    "        b[k] = (b[k] - np.dot(A[k,(k + 1):n], b[(k + 1):n]))/A[k,k]\n",
    "\n",
    "    return b"
   ]
  },
  {
   "cell_type": "code",
   "execution_count": 629,
   "metadata": {},
   "outputs": [
    {
     "name": "stdout",
     "output_type": "stream",
     "text": [
      "mu1 =  16.39373162228438\n",
      "mu2 =  16.393731622284395\n"
     ]
    }
   ],
   "source": [
    "A1 = np.array([[1e-16, 1., -1.], [-1., 2., -1.], [2., -1., 0.]])\n",
    "b1 = np.array([0., 0., 1.])\n",
    "\n",
    "A2 = np.array([[2., -1., 0.], [-1., 2., -1.], [1e-16, 1., -1.]])\n",
    "b2 = np.array([1., 0., 0.])\n",
    "\n",
    "print('mu1 = ', la.cond(A1))\n",
    "print('mu2 = ', la.cond(A2))"
   ]
  },
  {
   "cell_type": "code",
   "execution_count": 630,
   "metadata": {},
   "outputs": [
    {
     "name": "stdout",
     "output_type": "stream",
     "text": [
      "u1 =  [1. 1. 1.]\n",
      "u2 =  [1. 1. 1.]\n"
     ]
    }
   ],
   "source": [
    "print('u1 = ', la.solve(A1, b1))\n",
    "print('u2 = ',la.solve(A2, b2))"
   ]
  },
  {
   "cell_type": "code",
   "execution_count": 631,
   "metadata": {},
   "outputs": [
    {
     "name": "stdout",
     "output_type": "stream",
     "text": [
      "u1 =  [0.55511151 0.25       0.25      ]\n",
      "u2 =  [1. 1. 1.]\n"
     ]
    }
   ],
   "source": [
    "print('u1 = ', gauss(A1, b1))\n",
    "print('u2 = ', gauss(A2, b2))"
   ]
  },
  {
   "cell_type": "markdown",
   "metadata": {},
   "source": [
    "**Вследствие невыполнения условия диагонального преобладания и ошибки округления** для представленного метода Гаусса значения различаются. В системе $A_1 u_1 = b_1$ деление на малое значение происходит на первом шаге, что приводит к накоплению ошибок округления. В системе $A_2 u_2 = b_2$ малый элемент стоит на другой позиции и накопление ошибок происходит по-другому.\n",
    "\n",
    "Таким образом, хотя системы эквивалентны математически, в численном методе порядок операций приводит к различным ошибкам округления, что и вызывает расхождение решений."
   ]
  },
  {
   "attachments": {},
   "cell_type": "markdown",
   "metadata": {},
   "source": [
    "## Часть 2. LU разложение"
   ]
  },
  {
   "attachments": {},
   "cell_type": "markdown",
   "metadata": {},
   "source": [
    "Задание: \n",
    "\n",
    "Реализовать алгоритм решения предыдущей задачи с матрицей $A_2$ с помощью $LU$-разложение. В решении должна выводиться $L$, $U$ и решение системы. \n",
    "\n",
    "ВАЖНО: реализация метода $LU$ должна быть получена путем небольшой модификации метода $\\textit{gauss}$!  При этом саму реализацию можно разделить на два метода: один метод собственно находит $LU$ разложение (можно сделать переделкой цикла для матрицы $A$ метода $\\textit{gauss}$), второй метод - непосредственное решение системы с помощью прямого и обратного хода. Ни в каком виде нельзя пользоваться пакетными методами (в частности, la.solve)"
   ]
  },
  {
   "attachments": {},
   "cell_type": "markdown",
   "metadata": {
    "collapsed": true
   },
   "source": [
    "### LU - разложение с помощью пакета sympy"
   ]
  },
  {
   "attachments": {},
   "cell_type": "markdown",
   "metadata": {},
   "source": [
    "Чтобы убедиться, что разложение получено верно, можно воспользоваться скриптом ниже"
   ]
  },
  {
   "cell_type": "code",
   "execution_count": 632,
   "metadata": {},
   "outputs": [
    {
     "data": {
      "text/latex": [
       "$\\displaystyle \\left[\\begin{matrix}1 & 0 & 0\\\\-0.5 & 1 & 0\\\\5.0 \\cdot 10^{-17} & 0.666666666666667 & 1\\end{matrix}\\right]$"
      ],
      "text/plain": [
       "Matrix([\n",
       "[      1,                 0, 0],\n",
       "[   -0.5,                 1, 0],\n",
       "[5.0e-17, 0.666666666666667, 1]])"
      ]
     },
     "execution_count": 632,
     "metadata": {},
     "output_type": "execute_result"
    }
   ],
   "source": [
    "import sympy as sp\n",
    "\n",
    "A = sp.Matrix([[2., -1., 0.], [-1., 2., -1.], [1e-16, 1., -1.]])\n",
    "L, U, _ = A.LUdecomposition()\n",
    "L"
   ]
  },
  {
   "cell_type": "code",
   "execution_count": 633,
   "metadata": {},
   "outputs": [
    {
     "data": {
      "text/latex": [
       "$\\displaystyle \\left[\\begin{matrix}2.0 & -1.0 & 0.0\\\\0 & 1.5 & -1.0\\\\0 & 0 & -0.333333333333333\\end{matrix}\\right]$"
      ],
      "text/plain": [
       "Matrix([\n",
       "[2.0, -1.0,                0.0],\n",
       "[  0,  1.5,               -1.0],\n",
       "[  0,    0, -0.333333333333333]])"
      ]
     },
     "execution_count": 633,
     "metadata": {},
     "output_type": "execute_result"
    }
   ],
   "source": [
    "U"
   ]
  },
  {
   "cell_type": "code",
   "execution_count": 634,
   "metadata": {},
   "outputs": [
    {
     "name": "stdout",
     "output_type": "stream",
     "text": [
      "L:\n"
     ]
    },
    {
     "data": {
      "text/latex": [
       "$\\displaystyle \\left[\\begin{matrix}1.0 & 0.0 & 0.0\\\\-0.5 & 1.0 & 0.0\\\\5.0 \\cdot 10^{-17} & 0.666666666666667 & 1.0\\end{matrix}\\right]$"
      ],
      "text/plain": [
       "Matrix([\n",
       "[    1.0,               0.0, 0.0],\n",
       "[   -0.5,               1.0, 0.0],\n",
       "[5.0e-17, 0.666666666666667, 1.0]])"
      ]
     },
     "metadata": {},
     "output_type": "display_data"
    },
    {
     "name": "stdout",
     "output_type": "stream",
     "text": [
      "U:\n"
     ]
    },
    {
     "data": {
      "text/latex": [
       "$\\displaystyle \\left[\\begin{matrix}2.0 & -1.0 & 0.0\\\\0.0 & 1.5 & -1.0\\\\0.0 & 0.0 & -0.333333333333333\\end{matrix}\\right]$"
      ],
      "text/plain": [
       "Matrix([\n",
       "[2.0, -1.0,                0.0],\n",
       "[0.0,  1.5,               -1.0],\n",
       "[0.0,  0.0, -0.333333333333333]])"
      ]
     },
     "metadata": {},
     "output_type": "display_data"
    },
    {
     "name": "stdout",
     "output_type": "stream",
     "text": [
      "Решение системы:\n"
     ]
    },
    {
     "data": {
      "text/latex": [
       "$\\displaystyle \\left[\\begin{matrix}1.0\\\\1.0\\\\1.0\\end{matrix}\\right]$"
      ],
      "text/plain": [
       "Matrix([\n",
       "[1.0],\n",
       "[1.0],\n",
       "[1.0]])"
      ]
     },
     "metadata": {},
     "output_type": "display_data"
    }
   ],
   "source": [
    "def lu_decomposition(A_in):\n",
    "    n = A_in.shape[0]\n",
    "    A = copy.deepcopy(A_in)\n",
    "    \n",
    "    L = np.eye(n)\n",
    "    \n",
    "    for k in range(0, n - 1):\n",
    "        for i in range(k + 1, n):\n",
    "            if A[i,k] != 0:\n",
    "                # Заполняем столбцы матрицы L\n",
    "                L[i,k] = A[i,k] / A[k,k]\n",
    "\n",
    "                A[i,k:n] = A[i,k:n] - L[i,k] * A[k,k:n]\n",
    "\n",
    "    U = np.triu(A)\n",
    "\n",
    "    return L, U\n",
    "\n",
    "def lu_solve(L, U, b):\n",
    "    n = b.size\n",
    "\n",
    "    # Решаем Lv = b (ПРЯМОЙ ХОД)\n",
    "    v = np.zeros(n)\n",
    "    for i in range(0, n):\n",
    "        v[i] = b[i] - np.dot(L[i, 0:i], v[0:i])\n",
    "    \n",
    "    # Решаем Uu = v (ОБРАТНЫЙ ХОД)\n",
    "    u = np.zeros(n)\n",
    "    for k in range(n - 1, -1, -1):\n",
    "        u[k] = (v[k] - np.dot(U[k,(k + 1):n], u[(k + 1):n])) / U[k,k]\n",
    "    \n",
    "    return u\n",
    "\n",
    "L, U = lu_decomposition(A2)\n",
    "\n",
    "print(\"L:\")\n",
    "display(sp.Matrix(L))\n",
    "\n",
    "print(\"U:\")\n",
    "display(sp.Matrix(U))\n",
    "\n",
    "print(\"Решение системы:\")\n",
    "display(sp.Matrix(lu_solve(L, U, b2)))"
   ]
  },
  {
   "attachments": {},
   "cell_type": "markdown",
   "metadata": {},
   "source": [
    "## Часть 3. Нахождение обратной матрицы с помощью LU разложения"
   ]
  },
  {
   "attachments": {},
   "cell_type": "markdown",
   "metadata": {},
   "source": [
    "Задание:\n",
    "\n",
    "Предложить алгоритм с использованием $LU$-разложения и найти обратную матрицу с точностью $\\varepsilon = 10^{-3}$:\n",
    "$$\n",
    "A = \\begin{pmatrix} \n",
    "1 & 1  & 1 \\\\\n",
    "0 & 1 & 2 \\\\\n",
    "7 & 1 & 4 \\\\\n",
    "\\end{pmatrix}\n",
    "$$\n",
    "Для необходимых оценок использовать первую норму. Сравнить результат со значением, найденным с помощью функции numpy.linalg.inv."
   ]
  },
  {
   "cell_type": "code",
   "execution_count": 635,
   "metadata": {},
   "outputs": [
    {
     "name": "stdout",
     "output_type": "stream",
     "text": [
      "Обратная матрица:\n"
     ]
    },
    {
     "data": {
      "text/latex": [
       "$\\displaystyle \\left[\\begin{matrix}0.222222222222222 & -0.333333333333333 & 0.111111111111111\\\\1.55555555555556 & -0.333333333333333 & -0.222222222222222\\\\-0.777777777777778 & 0.666666666666667 & 0.111111111111111\\end{matrix}\\right]$"
      ],
      "text/plain": [
       "Matrix([\n",
       "[ 0.222222222222222, -0.333333333333333,  0.111111111111111],\n",
       "[  1.55555555555556, -0.333333333333333, -0.222222222222222],\n",
       "[-0.777777777777778,  0.666666666666667,  0.111111111111111]])"
      ]
     },
     "metadata": {},
     "output_type": "display_data"
    },
    {
     "name": "stdout",
     "output_type": "stream",
     "text": [
      "\n",
      "Обратная матрица, найденная с помощью LU-разложения:\n"
     ]
    },
    {
     "data": {
      "text/latex": [
       "$\\displaystyle \\left[\\begin{matrix}0.222222222222222 & -0.333333333333333 & 0.111111111111111\\\\1.55555555555556 & -0.333333333333333 & -0.222222222222222\\\\-0.777777777777778 & 0.666666666666667 & 0.111111111111111\\end{matrix}\\right]$"
      ],
      "text/plain": [
       "Matrix([\n",
       "[ 0.222222222222222, -0.333333333333333,  0.111111111111111],\n",
       "[  1.55555555555556, -0.333333333333333, -0.222222222222222],\n",
       "[-0.777777777777778,  0.666666666666667,  0.111111111111111]])"
      ]
     },
     "metadata": {},
     "output_type": "display_data"
    },
    {
     "name": "stdout",
     "output_type": "stream",
     "text": [
      "### Точность метода: 1.1102230246251565e-16\n",
      "\n",
      "Обратная матрица, найденная с помощью numpy.linalg.inv:\n"
     ]
    },
    {
     "data": {
      "text/latex": [
       "$\\displaystyle \\left[\\begin{matrix}0.222222222222222 & -0.333333333333333 & 0.111111111111111\\\\1.55555555555556 & -0.333333333333334 & -0.222222222222222\\\\-0.777777777777778 & 0.666666666666667 & 0.111111111111111\\end{matrix}\\right]$"
      ],
      "text/plain": [
       "Matrix([\n",
       "[ 0.222222222222222, -0.333333333333333,  0.111111111111111],\n",
       "[  1.55555555555556, -0.333333333333334, -0.222222222222222],\n",
       "[-0.777777777777778,  0.666666666666667,  0.111111111111111]])"
      ]
     },
     "metadata": {},
     "output_type": "display_data"
    },
    {
     "name": "stdout",
     "output_type": "stream",
     "text": [
      "### Точность метода: 7.216449660063518e-16\n"
     ]
    }
   ],
   "source": [
    "A = np.array([[1., 1., 1.], [0., 1., 2.], [7., 1., 4.]])\n",
    "\n",
    "def lu_inv(A_in):\n",
    "    n = A_in.shape[0]\n",
    "\n",
    "    L, U = lu_decomposition(A_in)\n",
    "    \n",
    "    E     = np.eye(n)\n",
    "    A_inv = np.zeros((n, n))\n",
    "    \n",
    "    for i in range(0, n):\n",
    "        e = E[0:n, i]\n",
    "        A_inv[:, i] = lu_solve(L, U, e)\n",
    "    \n",
    "    return A_inv\n",
    "\n",
    "print(\"Обратная матрица:\")\n",
    "A_inv_true =  np.array([[2/9., -1/3., 1/9.], [14/9., -1/3., -2/9.], [-7/9., 2/3., 1/9.]])\n",
    "display(sp.Matrix(A_inv_true))\n",
    "\n",
    "print(\"\\nОбратная матрица, найденная с помощью LU-разложения:\")\n",
    "A_inv_lu = lu_inv(A)\n",
    "display(sp.Matrix(A_inv_lu))\n",
    "print(f\"### Точность метода: {np.linalg.norm(A_inv_lu - A_inv_true, ord = 1)}\")\n",
    "\n",
    "print(\"\\nОбратная матрица, найденная с помощью numpy.linalg.inv:\")\n",
    "A_inv_np = np.linalg.inv(A)\n",
    "display(sp.Matrix(A_inv_np))\n",
    "print(f\"### Точность метода: {np.linalg.norm(A_inv_np - A_inv_true, ord = 1)}\")\n"
   ]
  },
  {
   "attachments": {},
   "cell_type": "markdown",
   "metadata": {},
   "source": [
    "## Часть 4. Модифицированный метод Гаусса\n",
    "\n",
    "Модифицировать метод Гаусса из Части 1 так, чтобы система $A_1x = b_1$ решалась корректно. ВАЖНО: реализация метода должна быть получена путем модификации метода $\\textit{gauss}$, а не переписыванием кода с нуля! "
   ]
  },
  {
   "cell_type": "code",
   "execution_count": 636,
   "metadata": {},
   "outputs": [
    {
     "name": "stdout",
     "output_type": "stream",
     "text": [
      "u1 =  [1. 1. 1.]\n",
      "u2 =  [1. 1. 1.]\n"
     ]
    }
   ],
   "source": [
    "def modified_gauss(A_in, b_in):\n",
    "    n = b_in.size\n",
    "    A = copy.deepcopy(A_in)\n",
    "    b = copy.deepcopy(b_in)\n",
    "\n",
    "    for k in range(0, n - 1):        \n",
    "        row_max_element = np.argmax(A[:,k])\n",
    "        A[[row_max_element, k]] = A[[k, row_max_element]]\n",
    "        b[[row_max_element, k]] = b[[k, row_max_element]]\n",
    "\n",
    "        for i in range(k + 1, n):\n",
    "            if A[i,k] != 0:\n",
    "                c = A[i,k]/A[k,k]\n",
    "                A[i,(k):n] = A[i,(k):n] - c * A[k,(k):n]\n",
    "                b[i] = b[i] - c * b[k]\n",
    "\n",
    "    # Обратный ход\n",
    "    for k in range(n - 1, -1, -1):\n",
    "        b[k] = (b[k] - np.dot(A[k,(k + 1):n], b[(k + 1):n]))/A[k,k]\n",
    "        \n",
    "    return b\n",
    "\n",
    "print('u1 = ', modified_gauss(A1, b1))\n",
    "print('u2 = ', modified_gauss(A2, b2))"
   ]
  }
 ],
 "metadata": {
  "anaconda-cloud": {},
  "kernelspec": {
   "display_name": "Python 3",
   "language": "python",
   "name": "python3"
  },
  "language_info": {
   "codemirror_mode": {
    "name": "ipython",
    "version": 3
   },
   "file_extension": ".py",
   "mimetype": "text/x-python",
   "name": "python",
   "nbconvert_exporter": "python",
   "pygments_lexer": "ipython3",
   "version": "3.12.2"
  }
 },
 "nbformat": 4,
 "nbformat_minor": 2
}
